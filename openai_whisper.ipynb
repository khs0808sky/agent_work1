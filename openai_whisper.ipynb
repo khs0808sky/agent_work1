{
 "cells": [
  {
   "cell_type": "code",
   "execution_count": 2,
   "id": "e7c1a46b",
   "metadata": {},
   "outputs": [],
   "source": [
    "from openai import OpenAI\n",
    "from dotenv import load_dotenv\n",
    "import os\n",
    "\n",
    "load_dotenv()\n",
    "api_key = os.getenv('OPENAI_API_KEY')\n",
    "\n",
    "client = OpenAI(api_key=api_key)"
   ]
  },
  {
   "cell_type": "code",
   "execution_count": 3,
   "id": "08296d97",
   "metadata": {},
   "outputs": [
    {
     "data": {
      "text/plain": [
       "Transcription(text='안녕하세요. 이 강의는 GPT API로 챗봇 만들기라는 내용을 다루는 강의입니다. GPT API에 대해서 생소하신 분들도 있을 텐데 우리가 잘 알고 있는 채GPT, 채GPT 기능을 이용해서 우리가 원하는 프로그램을 어떻게 만드는지에 대해서 이야기할 거예요. 그래서 뭐 이런 강의들이 사실 많이 있습니다. 그래서 여러 가지들이 있는데 좀 이 강의의 특징이라고 한다면 GPT로 명확한 미션을 달성하는 챗봇 프로그램을 만드는 게 사실 쉽지는 않은데 이걸 어떻게 해서 구현을 하는지 그리고 그게 왜 필요한지에 대해서 좀 이야기를 할 거고요. 그 예제로 예제는 여러 가지가 될 수 있는데 여기서 예제로 하는 것은 음악 플레이리스트 동영상을 자동으로 대화를 통해서 생성하는 프로그램 만드는 것을 다루려고 합니다. 그래서 프로그램이 실행되는 모습을 한번 보여드릴게요. 우리가 만들 프로그램은 이런 식으로 이제 나타나게 되고', usage={'type': 'duration', 'seconds': 58})"
      ]
     },
     "execution_count": 3,
     "metadata": {},
     "output_type": "execute_result"
    }
   ],
   "source": [
    "audio_file_path = './audio/lsy_audio_2023_58s.mp3'\n",
    "\n",
    "with open(audio_file_path, 'rb') as audio_file:\n",
    "    transcription = client.audio.transcriptions.create(\n",
    "        model=\"whisper-1\",\n",
    "        file=audio_file\n",
    "    )\n",
    "\n",
    "transcription"
   ]
  },
  {
   "cell_type": "code",
   "execution_count": 4,
   "id": "b98f94ad",
   "metadata": {},
   "outputs": [
    {
     "data": {
      "text/plain": [
       "Translation(text=\"Hello, this is a lecture on how to make a chatbot with GPT API. Some of you may be unfamiliar with GPT API. We're going to talk about how to make the program we want using the chat GPT function that we know well. So there are a lot of lectures like this. There are many things, but if I were to say the characteristics of this lecture, it's not easy to make a chatbot program that achieves a clear mission with GPT. I'm going to talk about how to implement this and why it's necessary. As an example, there can be many examples, but the example here is to create a program that automatically creates a music playlist video through conversation. So let me show you how the program runs. This is how the program we're going to make appears.\")"
      ]
     },
     "execution_count": 4,
     "metadata": {},
     "output_type": "execute_result"
    }
   ],
   "source": [
    "#한글 오디오 파일 => 영어 txt 변환\n",
    "with open(audio_file_path, 'rb') as audio_file:\n",
    "    transcription = client.audio.translations.create(\n",
    "        model=\"whisper-1\",\n",
    "        file=audio_file\n",
    "    )\n",
    "\n",
    "transcription"
   ]
  },
  {
   "cell_type": "code",
   "execution_count": 8,
   "id": "61d136aa",
   "metadata": {},
   "outputs": [
    {
     "data": {
      "text/plain": [
       "'1. Which of the following descriptions of the image is incorrect? 1. A lot of people are using laptops. 2. There are many lights installed on the ceiling. 3. The text Dive 2024 in Busan is visible. 4. People are mostly engaged in outdoor activities.'"
      ]
     },
     "execution_count": 8,
     "metadata": {},
     "output_type": "execute_result"
    }
   ],
   "source": [
    "# 1단계 : 영어 audio => 영어 txt 변환\n",
    "audio_file_path = \"./audio/1.mp3\"\n",
    "\n",
    "with open(audio_file_path, 'rb') as audio_file:\n",
    "    result = client.audio.transcriptions.create(\n",
    "        model='whisper-1',\n",
    "        file=audio_file\n",
    "    )\n",
    "\n",
    "english_text = result.text\n",
    "english_text"
   ]
  },
  {
   "cell_type": "code",
   "execution_count": 12,
   "id": "323d0a57",
   "metadata": {},
   "outputs": [
    {
     "name": "stdout",
     "output_type": "stream",
     "text": [
      "1. 다음 중 이미지에 대한 설명으로 옳지 않은 것은 무엇인가요?\n",
      "1. 많은 사람들이 노트북을 사용하고 있다.\n",
      "2. 천장에 많은 조명이 설치되어 있다.\n",
      "3. \"Dive 2024 in Busan\"이라는 문구가 보인다.\n",
      "4. 사람들은 대부분 야외 활동을 하고 있다.\n"
     ]
    }
   ],
   "source": [
    "# 2단계 : 영어 txt => 한국어 txt 변환\n",
    "response = client.chat.completions.create(\n",
    "    model='gpt-5',\n",
    "    messages=[\n",
    "        {'role': 'system', 'content': 'You are a translator that translates English into Korean.'},\n",
    "        {'role': 'user', 'content': english_text}\n",
    "    ]\n",
    ")\n",
    "\n",
    "korean_text = response.choices[0].message.content\n",
    "print(korean_text)"
   ]
  },
  {
   "cell_type": "code",
   "execution_count": null,
   "id": "16ebf26f",
   "metadata": {},
   "outputs": [],
   "source": []
  }
 ],
 "metadata": {
  "kernelspec": {
   "display_name": "venv",
   "language": "python",
   "name": "python3"
  },
  "language_info": {
   "codemirror_mode": {
    "name": "ipython",
    "version": 3
   },
   "file_extension": ".py",
   "mimetype": "text/x-python",
   "name": "python",
   "nbconvert_exporter": "python",
   "pygments_lexer": "ipython3",
   "version": "3.11.9"
  }
 },
 "nbformat": 4,
 "nbformat_minor": 5
}
